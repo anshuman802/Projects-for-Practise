{
 "cells": [
  {
   "cell_type": "code",
   "execution_count": 370,
   "metadata": {
    "collapsed": true
   },
   "outputs": [],
   "source": [
    "import pandas as pd\n",
    "import numpy as np\n",
    "#Visualisation\n",
    "import seaborn as sns\n",
    "import matplotlib.pyplot as plt\n",
    "%matplotlib inline\n",
    "from IPython.display import display"
   ]
  },
  {
   "cell_type": "markdown",
   "metadata": {},
   "source": [
    "### 1. Code to import the table"
   ]
  },
  {
   "cell_type": "code",
   "execution_count": 371,
   "metadata": {
    "collapsed": true
   },
   "outputs": [],
   "source": [
    "df=pd.read_excel(\"ModelingDataSet.xlsx\",sheetname=\"Transactions\")"
   ]
  },
  {
   "cell_type": "code",
   "execution_count": 361,
   "metadata": {},
   "outputs": [
    {
     "data": {
      "text/html": [
       "<div>\n",
       "<style>\n",
       "    .dataframe thead tr:only-child th {\n",
       "        text-align: right;\n",
       "    }\n",
       "\n",
       "    .dataframe thead th {\n",
       "        text-align: left;\n",
       "    }\n",
       "\n",
       "    .dataframe tbody tr th {\n",
       "        vertical-align: top;\n",
       "    }\n",
       "</style>\n",
       "<table border=\"1\" class=\"dataframe\">\n",
       "  <thead>\n",
       "    <tr style=\"text-align: right;\">\n",
       "      <th></th>\n",
       "      <th>Transaction_ID</th>\n",
       "      <th>Unit_cost</th>\n",
       "      <th>Quantity</th>\n",
       "      <th>Extended_cost</th>\n",
       "      <th>Revenue</th>\n",
       "      <th>Margin%</th>\n",
       "    </tr>\n",
       "  </thead>\n",
       "  <tbody>\n",
       "    <tr>\n",
       "      <th>0</th>\n",
       "      <td>1</td>\n",
       "      <td>0.261167</td>\n",
       "      <td>1200</td>\n",
       "      <td>313.40</td>\n",
       "      <td>468.00</td>\n",
       "      <td>0.330341</td>\n",
       "    </tr>\n",
       "    <tr>\n",
       "      <th>1</th>\n",
       "      <td>2</td>\n",
       "      <td>1.073075</td>\n",
       "      <td>400</td>\n",
       "      <td>429.23</td>\n",
       "      <td>572.00</td>\n",
       "      <td>0.249597</td>\n",
       "    </tr>\n",
       "    <tr>\n",
       "      <th>2</th>\n",
       "      <td>3</td>\n",
       "      <td>0.109778</td>\n",
       "      <td>2880</td>\n",
       "      <td>316.16</td>\n",
       "      <td>662.88</td>\n",
       "      <td>0.523050</td>\n",
       "    </tr>\n",
       "    <tr>\n",
       "      <th>3</th>\n",
       "      <td>4</td>\n",
       "      <td>0.007200</td>\n",
       "      <td>24000</td>\n",
       "      <td>172.80</td>\n",
       "      <td>288.00</td>\n",
       "      <td>0.400000</td>\n",
       "    </tr>\n",
       "    <tr>\n",
       "      <th>4</th>\n",
       "      <td>5</td>\n",
       "      <td>0.012630</td>\n",
       "      <td>10000</td>\n",
       "      <td>126.30</td>\n",
       "      <td>320.00</td>\n",
       "      <td>0.605312</td>\n",
       "    </tr>\n",
       "  </tbody>\n",
       "</table>\n",
       "</div>"
      ],
      "text/plain": [
       "   Transaction_ID  Unit_cost  Quantity  Extended_cost   Revenue   Margin%\n",
       "0               1   0.261167      1200          313.40   468.00  0.330341\n",
       "1               2   1.073075       400          429.23   572.00  0.249597\n",
       "2               3   0.109778      2880          316.16   662.88  0.523050\n",
       "3               4   0.007200     24000          172.80   288.00  0.400000\n",
       "4               5   0.012630     10000          126.30   320.00  0.605312"
      ]
     },
     "execution_count": 361,
     "metadata": {},
     "output_type": "execute_result"
    }
   ],
   "source": [
    "df.head()"
   ]
  },
  {
   "cell_type": "code",
   "execution_count": 362,
   "metadata": {},
   "outputs": [
    {
     "data": {
      "text/html": [
       "<div>\n",
       "<style>\n",
       "    .dataframe thead tr:only-child th {\n",
       "        text-align: right;\n",
       "    }\n",
       "\n",
       "    .dataframe thead th {\n",
       "        text-align: left;\n",
       "    }\n",
       "\n",
       "    .dataframe tbody tr th {\n",
       "        vertical-align: top;\n",
       "    }\n",
       "</style>\n",
       "<table border=\"1\" class=\"dataframe\">\n",
       "  <thead>\n",
       "    <tr style=\"text-align: right;\">\n",
       "      <th></th>\n",
       "      <th>Transaction_ID</th>\n",
       "      <th>Unit_cost</th>\n",
       "      <th>Quantity</th>\n",
       "      <th>Extended_cost</th>\n",
       "      <th>Revenue</th>\n",
       "      <th>Margin%</th>\n",
       "    </tr>\n",
       "  </thead>\n",
       "  <tbody>\n",
       "    <tr>\n",
       "      <th>count</th>\n",
       "      <td>28103.000000</td>\n",
       "      <td>28103.000000</td>\n",
       "      <td>28103.000000</td>\n",
       "      <td>28103.000000</td>\n",
       "      <td>28103.000000</td>\n",
       "      <td>28103.000000</td>\n",
       "    </tr>\n",
       "    <tr>\n",
       "      <th>mean</th>\n",
       "      <td>14052.000000</td>\n",
       "      <td>0.210462</td>\n",
       "      <td>5556.689820</td>\n",
       "      <td>276.245760</td>\n",
       "      <td>381.811127</td>\n",
       "      <td>0.411105</td>\n",
       "    </tr>\n",
       "    <tr>\n",
       "      <th>std</th>\n",
       "      <td>8112.781644</td>\n",
       "      <td>0.473328</td>\n",
       "      <td>16631.417435</td>\n",
       "      <td>622.663652</td>\n",
       "      <td>790.691345</td>\n",
       "      <td>0.217018</td>\n",
       "    </tr>\n",
       "    <tr>\n",
       "      <th>min</th>\n",
       "      <td>1.000000</td>\n",
       "      <td>0.000008</td>\n",
       "      <td>5.000000</td>\n",
       "      <td>0.020000</td>\n",
       "      <td>4.890000</td>\n",
       "      <td>0.091326</td>\n",
       "    </tr>\n",
       "    <tr>\n",
       "      <th>25%</th>\n",
       "      <td>7026.500000</td>\n",
       "      <td>0.025100</td>\n",
       "      <td>200.000000</td>\n",
       "      <td>22.500000</td>\n",
       "      <td>57.750000</td>\n",
       "      <td>0.178685</td>\n",
       "    </tr>\n",
       "    <tr>\n",
       "      <th>50%</th>\n",
       "      <td>14052.000000</td>\n",
       "      <td>0.109778</td>\n",
       "      <td>1150.000000</td>\n",
       "      <td>86.400000</td>\n",
       "      <td>150.000000</td>\n",
       "      <td>0.443076</td>\n",
       "    </tr>\n",
       "    <tr>\n",
       "      <th>75%</th>\n",
       "      <td>21077.500000</td>\n",
       "      <td>0.249111</td>\n",
       "      <td>5000.000000</td>\n",
       "      <td>310.650000</td>\n",
       "      <td>427.200000</td>\n",
       "      <td>0.610069</td>\n",
       "    </tr>\n",
       "    <tr>\n",
       "      <th>max</th>\n",
       "      <td>28103.000000</td>\n",
       "      <td>45.849321</td>\n",
       "      <td>600000.000000</td>\n",
       "      <td>21634.120000</td>\n",
       "      <td>28938.000000</td>\n",
       "      <td>0.999927</td>\n",
       "    </tr>\n",
       "  </tbody>\n",
       "</table>\n",
       "</div>"
      ],
      "text/plain": [
       "       Transaction_ID     Unit_cost       Quantity  Extended_cost   \\\n",
       "count    28103.000000  28103.000000   28103.000000    28103.000000   \n",
       "mean     14052.000000      0.210462    5556.689820      276.245760   \n",
       "std       8112.781644      0.473328   16631.417435      622.663652   \n",
       "min          1.000000      0.000008       5.000000        0.020000   \n",
       "25%       7026.500000      0.025100     200.000000       22.500000   \n",
       "50%      14052.000000      0.109778    1150.000000       86.400000   \n",
       "75%      21077.500000      0.249111    5000.000000      310.650000   \n",
       "max      28103.000000     45.849321  600000.000000    21634.120000   \n",
       "\n",
       "            Revenue       Margin%  \n",
       "count  28103.000000  28103.000000  \n",
       "mean     381.811127      0.411105  \n",
       "std      790.691345      0.217018  \n",
       "min        4.890000      0.091326  \n",
       "25%       57.750000      0.178685  \n",
       "50%      150.000000      0.443076  \n",
       "75%      427.200000      0.610069  \n",
       "max    28938.000000      0.999927  "
      ]
     },
     "metadata": {},
     "output_type": "display_data"
    },
    {
     "name": "stdout",
     "output_type": "stream",
     "text": [
      "<class 'pandas.core.frame.DataFrame'>\n",
      "RangeIndex: 28103 entries, 0 to 28102\n",
      "Data columns (total 6 columns):\n",
      "Transaction_ID    28103 non-null int64\n",
      "Unit_cost         28103 non-null float64\n",
      "Quantity          28103 non-null int64\n",
      "Extended_cost     28103 non-null float64\n",
      "Revenue           28103 non-null float64\n",
      "Margin%           28103 non-null float64\n",
      "dtypes: float64(4), int64(2)\n",
      "memory usage: 1.3 MB\n"
     ]
    },
    {
     "data": {
      "text/plain": [
       "None"
      ]
     },
     "metadata": {},
     "output_type": "display_data"
    }
   ],
   "source": [
    "display(df.describe())\n",
    "display(df.info())"
   ]
  },
  {
   "cell_type": "markdown",
   "metadata": {},
   "source": [
    "##### Checking for outliers"
   ]
  },
  {
   "cell_type": "code",
   "execution_count": 363,
   "metadata": {},
   "outputs": [
    {
     "data": {
      "text/plain": [
       "<matplotlib.axes._subplots.AxesSubplot at 0x21aff4ac3c8>"
      ]
     },
     "execution_count": 363,
     "metadata": {},
     "output_type": "execute_result"
    },
    {
     "data": {
      "image/png": "[encoded data removed]",
      "text/plain": [
       "<matplotlib.figure.Figure at 0x21afebe94a8>"
      ]
     },
     "metadata": {},
     "output_type": "display_data"
    },
    {
     "data": {
      "image/png": "[encoded data removed]",
      "text/plain": [
       "<matplotlib.figure.Figure at 0x21afe5e2208>"
      ]
     },
     "metadata": {},
     "output_type": "display_data"
    },
    {
     "data": {
      "image/png": "[encoded data removed]",
      "text/plain": [
       "<matplotlib.figure.Figure at 0x21afe25a128>"
      ]
     },
     "metadata": {},
     "output_type": "display_data"
    },
    {
     "data": {
      "image/png": "[encoded data removed]",
      "text/plain": [
       "<matplotlib.figure.Figure at 0x21aff37f940>"
      ]
     },
     "metadata": {},
     "output_type": "display_data"
    }
   ],
   "source": [
    "df[\"Quantity\"].plot.box()\n",
    "plt.figure()\n",
    "df[\"Unit_cost\"].plot.box()\n",
    "plt.figure()\n",
    "df[\"Revenue\"].plot.box()\n",
    "plt.figure()\n",
    "df['Extended_cost '].plot.box()"
   ]
  },
  {
   "cell_type": "code",
   "execution_count": null,
   "metadata": {},
   "outputs": [],
   "source": []
  },
  {
   "cell_type": "code",
   "execution_count": 364,
   "metadata": {},
   "outputs": [],
   "source": [
    "# cost=pd.qcut(df['Extended_cost '], 8, labels=False)\n"
   ]
  },
  {
   "cell_type": "code",
   "execution_count": 365,
   "metadata": {
    "collapsed": true
   },
   "outputs": [],
   "source": [
    "from sklearn.tree import DecisionTreeClassifier\n",
    "from sklearn import metrics"
   ]
  },
  {
   "cell_type": "code",
   "execution_count": 366,
   "metadata": {},
   "outputs": [],
   "source": [
    "from sklearn.model_selection import train_test_split\n"
   ]
  },
  {
   "cell_type": "markdown",
   "metadata": {},
   "source": [
    "## 2.a,b  \n",
    "## Segmentation of extended cost,classification,changing number of bins, average margin %"
   ]
  },
  {
   "cell_type": "markdown",
   "metadata": {},
   "source": [
    "Used Decision tree as classification model, first for that we have to convert extended cost into variables by binning. I putted the no. of bins under the loop which will show the accuracy for different no. bin"
   ]
  },
  {
   "cell_type": "code",
   "execution_count": 368,
   "metadata": {},
   "outputs": [
    {
     "name": "stdout",
     "output_type": "stream",
     "text": [
      "Accuracy when bins = 3 : 0.988703077744\n",
      "avg. margin of different bins cost\n",
      "0    0.612853\n",
      "1    0.401740\n",
      "2    0.218721\n",
      "Name: Margin%, dtype: float64\n",
      "Accuracy when bins = 4 : 0.992439067782\n",
      "avg. margin of different bins cost\n",
      "0    0.620402\n",
      "1    0.511114\n",
      "2    0.298965\n",
      "3    0.208383\n",
      "Name: Margin%, dtype: float64\n",
      "Accuracy when bins = 5 : 0.985678704857\n",
      "avg. margin of different bins cost\n",
      "0    0.624298\n",
      "1    0.575717\n",
      "2    0.397673\n",
      "3    0.253365\n",
      "4    0.203965\n",
      "Name: Margin%, dtype: float64\n",
      "Accuracy when bins = 6 : 0.987724604163\n",
      "avg. margin of different bins cost\n",
      "0    0.623481\n",
      "1    0.601885\n",
      "2    0.473077\n",
      "3    0.324586\n",
      "4    0.235011\n",
      "5    0.202347\n",
      "Name: Margin%, dtype: float64\n"
     ]
    }
   ],
   "source": [
    "for i in range(3,7):\n",
    "    df['cost']=pd.qcut(df['Extended_cost '], i, labels=False)\n",
    "    X_train, X_test, y_train, y_test= train_test_split(df.drop('Extended_cost ', axis=1),cost, test_size=0.40)\n",
    "    model=DecisionTreeClassifier()\n",
    "    model.fit(X_train,y_train)\n",
    "    prediction1=model.predict(X_test)\n",
    "    print('Accuracy when bins =',i,':',metrics.accuracy_score(prediction1,y_test))\n",
    "    print('avg. margin of different bins' , df.groupby(['cost'])['Margin%'].mean())\n",
    "\n"
   ]
  },
  {
   "cell_type": "markdown",
   "metadata": {},
   "source": [
    "## 2.c.\n",
    "## Corelation matrix"
   ]
  },
  {
   "cell_type": "code",
   "execution_count": 369,
   "metadata": {},
   "outputs": [
    {
     "data": {
      "image/png": "[encoded data removed]",
      "text/plain": [
       "<matplotlib.figure.Figure at 0x21afe23da20>"
      ]
     },
     "metadata": {},
     "output_type": "display_data"
    }
   ],
   "source": [
    "sns.heatmap(df.corr(),annot=True,cmap='RdYlGn',linewidths=0.2) #data.corr()-->correlation matrix\n",
    "fig=plt.gcf()\n",
    "fig.set_size_inches(10,8)\n",
    "plt.show()"
   ]
  },
  {
   "cell_type": "markdown",
   "metadata": {},
   "source": [
    "Margin with cost can help me to differentiate the margin even better"
   ]
  }
 ],
 "metadata": {
  "kernelspec": {
   "display_name": "Python 3",
   "language": "python",
   "name": "python3"
  },
  "language_info": {
   "codemirror_mode": {
    "name": "ipython",
    "version": 3
   },
   "file_extension": ".py",
   "mimetype": "text/x-python",
   "name": "python",
   "nbconvert_exporter": "python",
   "pygments_lexer": "ipython3",
   "version": "3.6.1"
  }
 },
 "nbformat": 4,
 "nbformat_minor": 2
}
